{
 "cells": [
  {
   "cell_type": "markdown",
   "metadata": {},
   "source": [
    "## load model"
   ]
  },
  {
   "cell_type": "code",
   "execution_count": 15,
   "metadata": {},
   "outputs": [],
   "source": [
    "import numpy as np\n",
    "import base64\n",
    "from keras.datasets import mnist\n",
    "from keras.models import Sequential\n",
    "from keras.layers import Dense\n",
    "from keras.layers import Dropout\n",
    "from keras.layers import Flatten\n",
    "from keras.layers.convolutional import Conv2D\n",
    "from keras.layers.convolutional import MaxPooling2D\n",
    "from keras.utils import np_utils\n",
    "from keras import backend as K\n",
    "\n",
    "from keras.models import load_model"
   ]
  },
  {
   "cell_type": "code",
   "execution_count": 9,
   "metadata": {},
   "outputs": [],
   "source": [
    "# helpers\n",
    "def show_img(img_to_show):\n",
    "    # Plot ad hoc mnist instances\n",
    "    import matplotlib.pyplot as plt\n",
    "    # plot 4 images as gray scale\n",
    "    this_pic = plt.figure()\n",
    "    plt.imshow(img_to_show, cmap=plt.get_cmap('gray'))\n",
    "    plt.show()\n",
    "    return this_pic\n",
    "    \n",
    "def pre_process_image(img):\n",
    "    \"\"\"\n",
    "    format the images \n",
    "    \"\"\"\n",
    "    # To a vector\n",
    "    x = np.array([np.array(img)])\n",
    "    # flatten 28*28 images to a 784 vector for each image\n",
    "    # deal with a single img\n",
    "    x = x.reshape(x.shape[0], 1, 28, 28).astype('float32')\n",
    "    \n",
    "    # normalization\n",
    "    x = x / 255\n",
    "    \n",
    "    return x"
   ]
  },
  {
   "cell_type": "code",
   "execution_count": 10,
   "metadata": {},
   "outputs": [],
   "source": [
    "baseline_model = load_model('./mnist/mnist_baseline_less.h5')"
   ]
  },
  {
   "cell_type": "code",
   "execution_count": 12,
   "metadata": {},
   "outputs": [
    {
     "name": "stdout",
     "output_type": "stream",
     "text": [
      "(1, 1, 28, 28)\n"
     ]
    }
   ],
   "source": [
    "# load a image\n",
    "from PIL import Image\n",
    "\n",
    "img = Image.open('./_MNIST_/digits_num_2_label_3.png')\n",
    "img = pre_process_image(img)\n",
    "\n",
    "print img.shape"
   ]
  },
  {
   "cell_type": "code",
   "execution_count": 13,
   "metadata": {},
   "outputs": [],
   "source": [
    "# encode\n",
    "\n",
    "def base64_encode_image(a):\n",
    "    \"\"\"\n",
    "    encode the image\n",
    "    \"\"\"\n",
    "    # base64 encode the input NumPy array\n",
    "    return base64.b64encode(a).decode(\"utf-8\")\n",
    "\n",
    "def base64_decode_image(a, dtype, shape):\n",
    "    \"\"\"\n",
    "    decode the image\n",
    "    \"\"\"\n",
    "    # convert the string to a NumPy array using the supplied data\n",
    "    # type and target shape\n",
    "    a = np.frombuffer(base64.decodestring(a), dtype=dtype)\n",
    "    a = a.reshape(shape)\n",
    "\n",
    "    # return the decoded image\n",
    "    return a"
   ]
  },
  {
   "cell_type": "code",
   "execution_count": 23,
   "metadata": {},
   "outputs": [
    {
     "name": "stdout",
     "output_type": "stream",
     "text": [
      "4184\n"
     ]
    }
   ],
   "source": [
    "image_encoded = base64_encode_image(img)\n",
    "print len(image_encoded)"
   ]
  },
  {
   "cell_type": "code",
   "execution_count": 37,
   "metadata": {},
   "outputs": [
    {
     "name": "stdout",
     "output_type": "stream",
     "text": [
      "<type 'numpy.float32'>\n"
     ]
    }
   ],
   "source": [
    "print type(img[:,:,:,0][0][0][0])"
   ]
  },
  {
   "cell_type": "code",
   "execution_count": 39,
   "metadata": {},
   "outputs": [],
   "source": [
    "image_decoded = base64_decode_image(image_encoded, 'float32', shape=(1,1,28,28))"
   ]
  },
  {
   "cell_type": "code",
   "execution_count": 41,
   "metadata": {},
   "outputs": [
    {
     "data": {
      "text/plain": [
       "(1, 1, 28, 28)"
      ]
     },
     "execution_count": 41,
     "metadata": {},
     "output_type": "execute_result"
    }
   ],
   "source": [
    "image_decoded.shape"
   ]
  },
  {
   "cell_type": "code",
   "execution_count": null,
   "metadata": {},
   "outputs": [],
   "source": []
  }
 ],
 "metadata": {
  "kernelspec": {
   "display_name": "insight",
   "language": "python",
   "name": "insight"
  },
  "language_info": {
   "codemirror_mode": {
    "name": "ipython",
    "version": 2
   },
   "file_extension": ".py",
   "mimetype": "text/x-python",
   "name": "python",
   "nbconvert_exporter": "python",
   "pygments_lexer": "ipython2",
   "version": "2.7.15"
  }
 },
 "nbformat": 4,
 "nbformat_minor": 2
}
